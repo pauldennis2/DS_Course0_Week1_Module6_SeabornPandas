{
 "cells": [
  {
   "cell_type": "markdown",
   "id": "7dbf7564",
   "metadata": {
    "id": "7dbf7564"
   },
   "source": [
    "# Lab - Data Visualizations with Seaborn & Pandas"
   ]
  },
  {
   "cell_type": "markdown",
   "id": "d198f9a3",
   "metadata": {
    "ExecuteTime": {
     "end_time": "2024-07-11T15:08:37.811654Z",
     "start_time": "2024-07-11T15:08:37.803487Z"
    },
    "id": "d198f9a3"
   },
   "source": [
    "## Introduction"
   ]
  },
  {
   "cell_type": "markdown",
   "id": "d8856149",
   "metadata": {
    "id": "d8856149"
   },
   "source": [
    "In this lab, you will apply your knowledge of the advanced visualization library Seaborn to generate plots that provide insight."
   ]
  },
  {
   "cell_type": "markdown",
   "id": "a0052bbf",
   "metadata": {
    "id": "a0052bbf"
   },
   "source": [
    "## Objectives"
   ]
  },
  {
   "cell_type": "markdown",
   "id": "iadd-sX1g4v-",
   "metadata": {
    "id": "iadd-sX1g4v-"
   },
   "source": [
    "You will be able to:\n",
    "    \n",
    "- Create a boxplot using Seaborn\n",
    "- Label plots with appropriate axis labels and titles\n",
    "- Create data visualizations with Pandas"
   ]
  },
  {
   "cell_type": "markdown",
   "id": "8jPoobpQg72U",
   "metadata": {
    "id": "8jPoobpQg72U"
   },
   "source": [
    "## Part I: Seaborn\n",
    "\n",
    "We will use a randomly generated data set to practice using Seaborn. Begin by running the below code without change."
   ]
  },
  {
   "cell_type": "code",
   "execution_count": null,
   "id": "Wgj01PA7h4jQ",
   "metadata": {
    "id": "Wgj01PA7h4jQ"
   },
   "outputs": [
    {
     "ename": "ModuleNotFoundError",
     "evalue": "No module named 'matplotlib.colors'",
     "output_type": "error",
     "traceback": [
      "\u001b[1;31m---------------------------------------------------------------------------\u001b[0m",
      "\u001b[1;31mModuleNotFoundError\u001b[0m                       Traceback (most recent call last)",
      "Cell \u001b[1;32mIn[1], line 6\u001b[0m\n\u001b[0;32m      4\u001b[0m \u001b[38;5;28;01mimport\u001b[39;00m \u001b[38;5;21;01mnumpy\u001b[39;00m \u001b[38;5;28;01mas\u001b[39;00m \u001b[38;5;21;01mnp\u001b[39;00m\n\u001b[0;32m      5\u001b[0m \u001b[38;5;28;01mimport\u001b[39;00m \u001b[38;5;21;01mpandas\u001b[39;00m \u001b[38;5;28;01mas\u001b[39;00m \u001b[38;5;21;01mpd\u001b[39;00m\n\u001b[1;32m----> 6\u001b[0m \u001b[38;5;28;01mimport\u001b[39;00m \u001b[38;5;21;01mseaborn\u001b[39;00m \u001b[38;5;28;01mas\u001b[39;00m \u001b[38;5;21;01msns\u001b[39;00m\n\u001b[0;32m      7\u001b[0m \u001b[38;5;28;01mimport\u001b[39;00m \u001b[38;5;21;01mmatplotlib\u001b[39;00m\u001b[38;5;21;01m.\u001b[39;00m\u001b[38;5;21;01mpyplot\u001b[39;00m \u001b[38;5;28;01mas\u001b[39;00m \u001b[38;5;21;01mplt\u001b[39;00m\n\u001b[0;32m      9\u001b[0m \u001b[38;5;66;03m# The seed must be 42 for the data to replicate\u001b[39;00m\n",
      "File \u001b[1;32mc:\\Users\\aaeam\\anaconda3\\envs\\win_c0c1\\Lib\\site-packages\\seaborn\\__init__.py:2\u001b[0m\n\u001b[0;32m      1\u001b[0m \u001b[38;5;66;03m# Import seaborn objects\u001b[39;00m\n\u001b[1;32m----> 2\u001b[0m \u001b[38;5;28;01mfrom\u001b[39;00m \u001b[38;5;21;01m.\u001b[39;00m\u001b[38;5;21;01mrcmod\u001b[39;00m \u001b[38;5;28;01mimport\u001b[39;00m \u001b[38;5;241m*\u001b[39m  \u001b[38;5;66;03m# noqa: F401,F403\u001b[39;00m\n\u001b[0;32m      3\u001b[0m \u001b[38;5;28;01mfrom\u001b[39;00m \u001b[38;5;21;01m.\u001b[39;00m\u001b[38;5;21;01mutils\u001b[39;00m \u001b[38;5;28;01mimport\u001b[39;00m \u001b[38;5;241m*\u001b[39m  \u001b[38;5;66;03m# noqa: F401,F403\u001b[39;00m\n\u001b[0;32m      4\u001b[0m \u001b[38;5;28;01mfrom\u001b[39;00m \u001b[38;5;21;01m.\u001b[39;00m\u001b[38;5;21;01mpalettes\u001b[39;00m \u001b[38;5;28;01mimport\u001b[39;00m \u001b[38;5;241m*\u001b[39m  \u001b[38;5;66;03m# noqa: F401,F403\u001b[39;00m\n",
      "File \u001b[1;32mc:\\Users\\aaeam\\anaconda3\\envs\\win_c0c1\\Lib\\site-packages\\seaborn\\rcmod.py:5\u001b[0m\n\u001b[0;32m      3\u001b[0m \u001b[38;5;28;01mimport\u001b[39;00m \u001b[38;5;21;01mmatplotlib\u001b[39;00m \u001b[38;5;28;01mas\u001b[39;00m \u001b[38;5;21;01mmpl\u001b[39;00m\n\u001b[0;32m      4\u001b[0m \u001b[38;5;28;01mfrom\u001b[39;00m \u001b[38;5;21;01mcycler\u001b[39;00m \u001b[38;5;28;01mimport\u001b[39;00m cycler\n\u001b[1;32m----> 5\u001b[0m \u001b[38;5;28;01mfrom\u001b[39;00m \u001b[38;5;21;01m.\u001b[39;00m \u001b[38;5;28;01mimport\u001b[39;00m palettes\n\u001b[0;32m      8\u001b[0m __all__ \u001b[38;5;241m=\u001b[39m [\u001b[38;5;124m\"\u001b[39m\u001b[38;5;124mset_theme\u001b[39m\u001b[38;5;124m\"\u001b[39m, \u001b[38;5;124m\"\u001b[39m\u001b[38;5;124mset\u001b[39m\u001b[38;5;124m\"\u001b[39m, \u001b[38;5;124m\"\u001b[39m\u001b[38;5;124mreset_defaults\u001b[39m\u001b[38;5;124m\"\u001b[39m, \u001b[38;5;124m\"\u001b[39m\u001b[38;5;124mreset_orig\u001b[39m\u001b[38;5;124m\"\u001b[39m,\n\u001b[0;32m      9\u001b[0m            \u001b[38;5;124m\"\u001b[39m\u001b[38;5;124maxes_style\u001b[39m\u001b[38;5;124m\"\u001b[39m, \u001b[38;5;124m\"\u001b[39m\u001b[38;5;124mset_style\u001b[39m\u001b[38;5;124m\"\u001b[39m, \u001b[38;5;124m\"\u001b[39m\u001b[38;5;124mplotting_context\u001b[39m\u001b[38;5;124m\"\u001b[39m, \u001b[38;5;124m\"\u001b[39m\u001b[38;5;124mset_context\u001b[39m\u001b[38;5;124m\"\u001b[39m,\n\u001b[0;32m     10\u001b[0m            \u001b[38;5;124m\"\u001b[39m\u001b[38;5;124mset_palette\u001b[39m\u001b[38;5;124m\"\u001b[39m]\n\u001b[0;32m     13\u001b[0m _style_keys \u001b[38;5;241m=\u001b[39m [\n\u001b[0;32m     14\u001b[0m \n\u001b[0;32m     15\u001b[0m     \u001b[38;5;124m\"\u001b[39m\u001b[38;5;124maxes.facecolor\u001b[39m\u001b[38;5;124m\"\u001b[39m,\n\u001b[1;32m   (...)\u001b[0m\n\u001b[0;32m     50\u001b[0m \n\u001b[0;32m     51\u001b[0m ]\n",
      "File \u001b[1;32mc:\\Users\\aaeam\\anaconda3\\envs\\win_c0c1\\Lib\\site-packages\\seaborn\\palettes.py:9\u001b[0m\n\u001b[0;32m      5\u001b[0m \u001b[38;5;28;01mimport\u001b[39;00m \u001b[38;5;21;01mmatplotlib\u001b[39;00m \u001b[38;5;28;01mas\u001b[39;00m \u001b[38;5;21;01mmpl\u001b[39;00m\n\u001b[0;32m      7\u001b[0m \u001b[38;5;28;01mfrom\u001b[39;00m \u001b[38;5;21;01m.\u001b[39;00m\u001b[38;5;21;01mexternal\u001b[39;00m \u001b[38;5;28;01mimport\u001b[39;00m husl\n\u001b[1;32m----> 9\u001b[0m \u001b[38;5;28;01mfrom\u001b[39;00m \u001b[38;5;21;01m.\u001b[39;00m\u001b[38;5;21;01mutils\u001b[39;00m \u001b[38;5;28;01mimport\u001b[39;00m desaturate, get_color_cycle\n\u001b[0;32m     10\u001b[0m \u001b[38;5;28;01mfrom\u001b[39;00m \u001b[38;5;21;01m.\u001b[39;00m\u001b[38;5;21;01mcolors\u001b[39;00m \u001b[38;5;28;01mimport\u001b[39;00m xkcd_rgb, crayons\n\u001b[0;32m     11\u001b[0m \u001b[38;5;28;01mfrom\u001b[39;00m \u001b[38;5;21;01m.\u001b[39;00m\u001b[38;5;21;01m_compat\u001b[39;00m \u001b[38;5;28;01mimport\u001b[39;00m get_colormap\n",
      "File \u001b[1;32mc:\\Users\\aaeam\\anaconda3\\envs\\win_c0c1\\Lib\\site-packages\\seaborn\\utils.py:13\u001b[0m\n\u001b[0;32m     11\u001b[0m \u001b[38;5;28;01mimport\u001b[39;00m \u001b[38;5;21;01mpandas\u001b[39;00m \u001b[38;5;28;01mas\u001b[39;00m \u001b[38;5;21;01mpd\u001b[39;00m\n\u001b[0;32m     12\u001b[0m \u001b[38;5;28;01mimport\u001b[39;00m \u001b[38;5;21;01mmatplotlib\u001b[39;00m \u001b[38;5;28;01mas\u001b[39;00m \u001b[38;5;21;01mmpl\u001b[39;00m\n\u001b[1;32m---> 13\u001b[0m \u001b[38;5;28;01mfrom\u001b[39;00m \u001b[38;5;21;01mmatplotlib\u001b[39;00m\u001b[38;5;21;01m.\u001b[39;00m\u001b[38;5;21;01mcolors\u001b[39;00m \u001b[38;5;28;01mimport\u001b[39;00m to_rgb\n\u001b[0;32m     14\u001b[0m \u001b[38;5;28;01mimport\u001b[39;00m \u001b[38;5;21;01mmatplotlib\u001b[39;00m\u001b[38;5;21;01m.\u001b[39;00m\u001b[38;5;21;01mpyplot\u001b[39;00m \u001b[38;5;28;01mas\u001b[39;00m \u001b[38;5;21;01mplt\u001b[39;00m\n\u001b[0;32m     15\u001b[0m \u001b[38;5;28;01mfrom\u001b[39;00m \u001b[38;5;21;01mmatplotlib\u001b[39;00m\u001b[38;5;21;01m.\u001b[39;00m\u001b[38;5;21;01mcbook\u001b[39;00m \u001b[38;5;28;01mimport\u001b[39;00m normalize_kwargs\n",
      "\u001b[1;31mModuleNotFoundError\u001b[0m: No module named 'matplotlib.colors'"
     ]
    }
   ],
   "source": [
    "# CodeGrade step0\n",
    "# Run this cell without changes\n",
    "\n",
    "import numpy as np\n",
    "import pandas as pd\n",
    "import seaborn as sns\n",
    "import matplotlib.pyplot as plt\n",
    "\n",
    "# The seed must be 42 for the data to replicate\n",
    "seed = 42\n",
    "\n",
    "# Data\n",
    "data = np.random.normal(size=(20, 10)) + np.arange(10) / 2"
   ]
  },
  {
   "cell_type": "markdown",
   "id": "dz9ywOCtir1t",
   "metadata": {
    "id": "dz9ywOCtir1t"
   },
   "source": [
    "### Step 1\n",
    "\n",
    "Create a boxplot and store the object returned in the variable boxplot1."
   ]
  },
  {
   "cell_type": "code",
   "execution_count": null,
   "id": "pBe5Tvdvixv4",
   "metadata": {
    "id": "pBe5Tvdvixv4"
   },
   "outputs": [],
   "source": [
    "# CodeGrade step1\n",
    "# Replace None with your code\n",
    "\n",
    "boxplot1 = None"
   ]
  },
  {
   "cell_type": "markdown",
   "id": "LfOPe5Zyi3Sh",
   "metadata": {
    "id": "LfOPe5Zyi3Sh"
   },
   "source": [
    "### Step 2\n",
    "Repeat step 1 creating another boxplot, but now also call the boxplot object's set() method in order to set the title and axis labels as follow:\n",
    "* X axis should be labeled 'X Label'\n",
    "* y axis should be labeled 'Y Label'\n",
    "* Title should be labeled 'Example Boxplot'"
   ]
  },
  {
   "cell_type": "code",
   "execution_count": null,
   "id": "Qif9hCfQjIkN",
   "metadata": {
    "id": "Qif9hCfQjIkN"
   },
   "outputs": [],
   "source": [
    "# CodeGrade step2\n",
    "# Replace None with your code\n",
    "\n",
    "boxplot2 = None\n",
    "boxplot2.set(None)"
   ]
  },
  {
   "cell_type": "markdown",
   "id": "AQSKa6zgjZvK",
   "metadata": {
    "id": "AQSKa6zgjZvK"
   },
   "source": [
    "### Step 3\n",
    "\n",
    "Repeat step 2, this time also utilizing Seaborn to set the style to be 'darkgrid'. Still include title and axis labels."
   ]
  },
  {
   "cell_type": "code",
   "execution_count": null,
   "id": "WkT6dKgRjaBJ",
   "metadata": {
    "id": "WkT6dKgRjaBJ"
   },
   "outputs": [],
   "source": [
    "# CodeGrade step3\n",
    "# Replace None with your code\n",
    "\n",
    "# Set style\n",
    "None\n",
    "\n",
    "# Plot\n",
    "boxplot3 = None\n",
    "boxplot3.set(None)"
   ]
  },
  {
   "cell_type": "markdown",
   "id": "5kiPMgX_jrwM",
   "metadata": {
    "id": "5kiPMgX_jrwM"
   },
   "source": [
    "### Step 4\n",
    "\n",
    "Recreate the labeled boxplot that we made in Step 3\n",
    "* Utilizing Seaborn's context setting, adjust the size and font style of text so that it is more legible for presentations and large screen format\n",
    "* Use 'poster' from Seaborns preconfigured options\n",
    "\n"
   ]
  },
  {
   "cell_type": "code",
   "execution_count": null,
   "id": "95qfZVTKjr4i",
   "metadata": {
    "id": "95qfZVTKjr4i"
   },
   "outputs": [],
   "source": [
    "# CodeGrade step4\n",
    "# Replace None with your code\n",
    "\n",
    "# Context\n",
    "None\n",
    "\n",
    "# Plot\n",
    "boxplot4 = None\n",
    "boxplot4.set(None)"
   ]
  },
  {
   "cell_type": "markdown",
   "id": "DqyOt8UEl-zG",
   "metadata": {
    "id": "DqyOt8UEl-zG"
   },
   "source": [
    "### Step 5\n",
    "\n",
    "You are now going to take a look at the canonical Seaborn Penguins dataset. This dataset contains biometric measurements and categorical information regarding three species of penguins."
   ]
  },
  {
   "cell_type": "code",
   "execution_count": null,
   "id": "SJbaN3_Lm-3Z",
   "metadata": {
    "colab": {
     "base_uri": "https://localhost:8080/",
     "height": 424
    },
    "id": "SJbaN3_Lm-3Z",
    "outputId": "525808a2-7590-4c61-ba64-d9895a375eec"
   },
   "outputs": [],
   "source": [
    "# CodeGrade step0\n",
    "# Run this cell without changes\n",
    "\n",
    "penguins = pd.read_csv(\"penguins.csv\")\n",
    "penguins.head()"
   ]
  },
  {
   "cell_type": "markdown",
   "id": "e8051fe9",
   "metadata": {},
   "source": [
    "Now use Seaborn to create a histogram of the 'body_mass_g' column with the following parameters:\n",
    "*   Context is set to 'talk'\n",
    "*   Color of the bars should distinguish male and female from each other\n",
    "*   The labels should be:\n",
    "    - X Axis: 'Body Mass (g)'\n",
    "    - Y Axis: 'Number of Penguins'\n",
    "    - Title: 'Penguin Mass Distribution by Sex'"
   ]
  },
  {
   "cell_type": "code",
   "execution_count": null,
   "id": "AoDerbaZkdfL",
   "metadata": {
    "id": "AoDerbaZkdfL"
   },
   "outputs": [],
   "source": [
    "# CodeGrade step5\n",
    "# Replace None with your code\n",
    "\n",
    "# Context\n",
    "None\n",
    "\n",
    "#Plot\n",
    "histplot1 = None\n",
    "histplot1.set(None)\n"
   ]
  },
  {
   "cell_type": "markdown",
   "id": "89vbnhQ_pO-7",
   "metadata": {
    "id": "89vbnhQ_pO-7"
   },
   "source": [
    "### Step 6\n",
    "\n",
    "Create a scatter plot of the bill length (horizontal axis) vs. the bill depth (vertical axis) with the following parameters:\n",
    "\n",
    "* The context set to 'paper'\n",
    "* Have the points color represent the sex\n",
    "* Have the points shape/style represent the species\n",
    "* The labels should be:\n",
    "    - X Axis: 'Bill Length (mm)'\n",
    "    - y Axis: 'Bill Depth (mm)'\n",
    "    - Title: 'Scatterplot of Bill Sizes of Penguins'"
   ]
  },
  {
   "cell_type": "code",
   "execution_count": null,
   "id": "0c787ecc",
   "metadata": {},
   "outputs": [],
   "source": [
    "sns.set_context('paper')\n",
    "scatterplot1 = sns.scatterplot(data=penguins, x=\"bill_length_mm\", y=\"bill_depth_mm\", hue=\"sex\", style=\"species\")\n",
    "scatterplot1.set(xlabel = 'Bill Length (mm)', ylabel='Bill Depth (mm)', title='Scatterplot of Bill Sizes of Penguins')"
   ]
  },
  {
   "cell_type": "code",
   "execution_count": null,
   "id": "ZpoLwr6ZpJ-i",
   "metadata": {
    "id": "ZpoLwr6ZpJ-i"
   },
   "outputs": [],
   "source": [
    "# CodeGrade step6\n",
    "# Replace None with your code\n",
    "\n",
    "# Context\n",
    "None\n",
    "\n",
    "# Plot\n",
    "scatterplot1 = None\n",
    "scatterplot1.set(None)"
   ]
  },
  {
   "cell_type": "markdown",
   "id": "3a7a1816",
   "metadata": {},
   "source": [
    "## Part II: Pandas"
   ]
  },
  {
   "cell_type": "markdown",
   "id": "5d0a2554",
   "metadata": {},
   "source": [
    "### Visualizing High Dimensional Data\n",
    "\n",
    "You are now going to take a look at the canonical iris dataset. This dataset is a classic multivariate dataset, which includes the sepal length, sepal width, petal length, and petal width for hundreds of samples of three species of the iris flower."
   ]
  },
  {
   "cell_type": "code",
   "execution_count": null,
   "id": "0ecc5d4f",
   "metadata": {},
   "outputs": [],
   "source": [
    "# CodeGrade step0\n",
    "# Run this cell without changes\n",
    "\n",
    "iris = pd.read_csv(\"iris.csv\")\n",
    "iris.head()"
   ]
  },
  {
   "cell_type": "markdown",
   "id": "ab7eaf7b",
   "metadata": {},
   "source": [
    "### Step 7\n",
    "\n",
    "A primary question you might ask regarding this data is if there is any difference in average measurements across species? You can help answer this via a simple bar chart visual. In order to do so you must first create your aggregated data. You are interestred in seeing how much the mean sepal width differs across the three species.\n",
    "* X Axis should be labeled as 'Species'\n",
    "* Y Axis should be labeled as 'Mean Sepal Width'\n",
    "* Title should be labeled as 'Distribution of Sepal Width'"
   ]
  },
  {
   "cell_type": "code",
   "execution_count": null,
   "id": "6840c9cb",
   "metadata": {},
   "outputs": [],
   "source": [
    "# CodeGrade step7\n",
    "# Replace None with your code\n",
    "\n",
    "# Create your grouped by means, should be a pandas series\n",
    "species_mean_sepal_width = iris.groupby('species').mean()['sepal_width']\n",
    "\n",
    "# Plot from the species_mean_width series\n",
    "barplot1 = species_mean_sepal_width.plot(kind='bar', title='Distribution of Sepal Width', ylabel='Mean Sepal Width')"
   ]
  },
  {
   "cell_type": "markdown",
   "id": "b14f49b0",
   "metadata": {},
   "source": [
    "### Step 8\n",
    "\n",
    "Utilize pandas plotting (.plot) to create a histogram plot to show the distribution of the 'sepal_length' column separated and grouped by 'species'. You should end up with a chart showing three histograms, one on top of the other. You can accomplish this with one .plot() call."
   ]
  },
  {
   "cell_type": "code",
   "execution_count": null,
   "id": "0be5bf67",
   "metadata": {},
   "outputs": [],
   "source": [
    "# CodeGrade step8\n",
    "# Replace None with your code\n",
    "\n",
    "# Plot\n",
    "histplot2 = None"
   ]
  }
 ],
 "metadata": {
  "colab": {
   "provenance": []
  },
  "kernelspec": {
   "display_name": "win_c0c1",
   "language": "python",
   "name": "python3"
  },
  "language_info": {
   "codemirror_mode": {
    "name": "ipython",
    "version": 3
   },
   "file_extension": ".py",
   "mimetype": "text/x-python",
   "name": "python",
   "nbconvert_exporter": "python",
   "pygments_lexer": "ipython3",
   "version": "3.12.4"
  },
  "toc": {
   "base_numbering": 1,
   "nav_menu": {},
   "number_sections": true,
   "sideBar": true,
   "skip_h1_title": false,
   "title_cell": "Table of Contents",
   "title_sidebar": "Contents",
   "toc_cell": false,
   "toc_position": {},
   "toc_section_display": true,
   "toc_window_display": false
  }
 },
 "nbformat": 4,
 "nbformat_minor": 5
}
